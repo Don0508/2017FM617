{
 "cells": [
  {
   "cell_type": "markdown",
   "metadata": {},
   "source": [
    "# Heading Q1\n",
    "## Heading Q1\n",
    "\n",
    "* item 1\n",
    "  * subitem 1 \n",
    "\n",
    "1.ordered item\n",
    "\n",
    "2."
   ]
  },
  {
   "cell_type": "code",
   "execution_count": null,
   "metadata": {
    "collapsed": true
   },
   "outputs": [],
   "source": [
    "#"
   ]
  },
  {
   "cell_type": "code",
   "execution_count": 8,
   "metadata": {
    "collapsed": true
   },
   "outputs": [],
   "source": [
    "######################Q1######################\n",
    "import pandas as pd"
   ]
  },
  {
   "cell_type": "code",
   "execution_count": 9,
   "metadata": {},
   "outputs": [
    {
     "data": {
      "text/html": [
       "<div>\n",
       "<style>\n",
       "    .dataframe thead tr:only-child th {\n",
       "        text-align: right;\n",
       "    }\n",
       "\n",
       "    .dataframe thead th {\n",
       "        text-align: left;\n",
       "    }\n",
       "\n",
       "    .dataframe tbody tr th {\n",
       "        vertical-align: top;\n",
       "    }\n",
       "</style>\n",
       "<table border=\"1\" class=\"dataframe\">\n",
       "  <thead>\n",
       "    <tr style=\"text-align: right;\">\n",
       "      <th></th>\n",
       "      <th>Symbol</th>\n",
       "      <th>Name</th>\n",
       "      <th>LastSale</th>\n",
       "      <th>MarketCap</th>\n",
       "      <th>ADR TSO</th>\n",
       "      <th>IPOyear</th>\n",
       "      <th>Sector</th>\n",
       "      <th>Industry</th>\n",
       "      <th>Summary Quote</th>\n",
       "      <th>Unnamed: 9</th>\n",
       "    </tr>\n",
       "  </thead>\n",
       "  <tbody>\n",
       "    <tr>\n",
       "      <th>0</th>\n",
       "      <td>PIH</td>\n",
       "      <td>1347 Property Insurance Holdings, Inc.</td>\n",
       "      <td>7.2</td>\n",
       "      <td>4.288872e+07</td>\n",
       "      <td>n/a</td>\n",
       "      <td>2014</td>\n",
       "      <td>Finance</td>\n",
       "      <td>Property-Casualty Insurers</td>\n",
       "      <td>http://www.nasdaq.com/symbol/pih</td>\n",
       "      <td>NaN</td>\n",
       "    </tr>\n",
       "    <tr>\n",
       "      <th>1</th>\n",
       "      <td>TURN</td>\n",
       "      <td>180 Degree Capital Corp.</td>\n",
       "      <td>1.89</td>\n",
       "      <td>5.881975e+07</td>\n",
       "      <td>n/a</td>\n",
       "      <td>n/a</td>\n",
       "      <td>Finance</td>\n",
       "      <td>Finance/Investors Services</td>\n",
       "      <td>http://www.nasdaq.com/symbol/turn</td>\n",
       "      <td>NaN</td>\n",
       "    </tr>\n",
       "    <tr>\n",
       "      <th>2</th>\n",
       "      <td>FLWS</td>\n",
       "      <td>1-800 FLOWERS.COM, Inc.</td>\n",
       "      <td>9.25</td>\n",
       "      <td>6.001301e+08</td>\n",
       "      <td>n/a</td>\n",
       "      <td>1999</td>\n",
       "      <td>Consumer Services</td>\n",
       "      <td>Other Specialty Stores</td>\n",
       "      <td>http://www.nasdaq.com/symbol/flws</td>\n",
       "      <td>NaN</td>\n",
       "    </tr>\n",
       "    <tr>\n",
       "      <th>3</th>\n",
       "      <td>FCCY</td>\n",
       "      <td>1st Constitution Bancorp (NJ)</td>\n",
       "      <td>18.25</td>\n",
       "      <td>1.472642e+08</td>\n",
       "      <td>n/a</td>\n",
       "      <td>n/a</td>\n",
       "      <td>Finance</td>\n",
       "      <td>Savings Institutions</td>\n",
       "      <td>http://www.nasdaq.com/symbol/fccy</td>\n",
       "      <td>NaN</td>\n",
       "    </tr>\n",
       "    <tr>\n",
       "      <th>4</th>\n",
       "      <td>SRCE</td>\n",
       "      <td>1st Source Corporation</td>\n",
       "      <td>51.92</td>\n",
       "      <td>1.346604e+09</td>\n",
       "      <td>n/a</td>\n",
       "      <td>n/a</td>\n",
       "      <td>Finance</td>\n",
       "      <td>Major Banks</td>\n",
       "      <td>http://www.nasdaq.com/symbol/srce</td>\n",
       "      <td>NaN</td>\n",
       "    </tr>\n",
       "  </tbody>\n",
       "</table>\n",
       "</div>"
      ],
      "text/plain": [
       "  Symbol                                    Name LastSale     MarketCap  \\\n",
       "0    PIH  1347 Property Insurance Holdings, Inc.      7.2  4.288872e+07   \n",
       "1   TURN                180 Degree Capital Corp.     1.89  5.881975e+07   \n",
       "2   FLWS                 1-800 FLOWERS.COM, Inc.     9.25  6.001301e+08   \n",
       "3   FCCY           1st Constitution Bancorp (NJ)    18.25  1.472642e+08   \n",
       "4   SRCE                  1st Source Corporation    51.92  1.346604e+09   \n",
       "\n",
       "  ADR TSO IPOyear             Sector                    Industry  \\\n",
       "0     n/a    2014            Finance  Property-Casualty Insurers   \n",
       "1     n/a     n/a            Finance  Finance/Investors Services   \n",
       "2     n/a    1999  Consumer Services      Other Specialty Stores   \n",
       "3     n/a     n/a            Finance        Savings Institutions   \n",
       "4     n/a     n/a            Finance                 Major Banks   \n",
       "\n",
       "                       Summary Quote  Unnamed: 9  \n",
       "0   http://www.nasdaq.com/symbol/pih         NaN  \n",
       "1  http://www.nasdaq.com/symbol/turn         NaN  \n",
       "2  http://www.nasdaq.com/symbol/flws         NaN  \n",
       "3  http://www.nasdaq.com/symbol/fccy         NaN  \n",
       "4  http://www.nasdaq.com/symbol/srce         NaN  "
      ]
     },
     "execution_count": 9,
     "metadata": {},
     "output_type": "execute_result"
    }
   ],
   "source": [
    "url = \"http://www.nasdaq.com/screening/companies-by-industry.aspx?exchange=NASDAQ&render=download\"\n",
    "data = pd.read_csv(url)\n",
    "data.head()"
   ]
  },
  {
   "cell_type": "code",
   "execution_count": 1,
   "metadata": {
    "collapsed": true
   },
   "outputs": [],
   "source": [
    "######################Q2######################\n",
    "import folium \n",
    "import geocoder"
   ]
  },
  {
   "cell_type": "code",
   "execution_count": 2,
   "metadata": {},
   "outputs": [
    {
     "data": {
      "text/plain": [
       "[22.6264249, 120.265843]"
      ]
     },
     "execution_count": 2,
     "metadata": {},
     "output_type": "execute_result"
    }
   ],
   "source": [
    "location = geocoder.google('中山大學').latlng\n",
    "location"
   ]
  },
  {
   "cell_type": "code",
   "execution_count": 3,
   "metadata": {
    "scrolled": false
   },
   "outputs": [
    {
     "data": {
      "text/html": [
       "<div style=\"width:100%;\"><div style=\"position:relative;width:100%;height:0;padding-bottom:60%;\"><iframe src=\"data:text/html;charset=utf-8;base64,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\" style=\"position:absolute;width:100%;height:100%;left:0;top:0;border:none !important;\" allowfullscreen webkitallowfullscreen mozallowfullscreen></iframe></div></div>"
      ],
      "text/plain": [
       "<folium.folium.Map at 0x235c8709cf8>"
      ]
     },
     "execution_count": 3,
     "metadata": {},
     "output_type": "execute_result"
    }
   ],
   "source": [
    "folium.Map(location = location ,zoom_start = 50)"
   ]
  },
  {
   "cell_type": "code",
   "execution_count": 11,
   "metadata": {},
   "outputs": [],
   "source": [
    "######################Q3######################\n",
    "import util\n",
    "import jieba\n",
    "import jieba.analyse"
   ]
  },
  {
   "cell_type": "code",
   "execution_count": 3,
   "metadata": {},
   "outputs": [
    {
     "data": {
      "text/plain": [
       "'根據 IHS Markit 研調數據顯示，今年第 3 季全球智慧型手機出貨 3.66 億台，年增 6.1%，蘋果新機 iPhone8 及 iPhoneX 上市影響逐步顯現，iPhone 出貨年增 2.6%，前五大品牌廠排名，三星仍然居冠，蘋果居次，其餘則是中國品牌華為、OPPO、小米等，第 3 季出貨皆較去年同期成長。\\nIHS Markit 統計，小米重新擠進全球第五，第 3 季出貨較去年同期增加\\xa0111.2%，出貨量\\xa02760 萬支，略微領先 Vivo，重回前五大，Vivo 則以 2540 萬支，居全球第六，但出貨仍較去年同期成長\\xa020.4%。\\n三星第 3 季智慧手機出貨 8340 萬支，年增 7.7%，全球市占率增至 23%，年增 1 個百分點，由於中國市場逐步被本土品牌占领，三星在中國市場拓展略顯乏力。\\n蘋果第 3 季度智慧手機出貨 4670 萬支，年增 2.6%；在中國區整體收入年增 12%，挽回近期中國市場衰退窘境，在美國則是年增 14%，在歐洲年增 20%，亞洲地區年增 5 %，日本的銷售收入則年減 11%；由於 iPhone 8 在第 3 季度末正式發售，iPhone X 在上周開始銷售，較明顯的出貨貢獻時間將在第 4 季。\\n華為持續穩定守住全球第三，第 3 季智慧手機出貨 3910 萬支，年增 16.4%，全球市占率增至 11%，受惠在本土市場具備品牌優勢，出貨持續领先。\\nOPPO 和 VIVO\\xa0在第 3 季都穩定成長，OPPO 智慧手機出貨 3160 萬支，年增 17.9%；Vivo 出貨 2540 萬支，年增 20.4%；兩個品牌全球市占率分別是 9% 及 % 來看，皆較去年略微成長。\\n'"
      ]
     },
     "execution_count": 3,
     "metadata": {},
     "output_type": "execute_result"
    }
   ],
   "source": [
    "news_text = util.get_news_article('https://news.cnyes.com/news/id/3956525')\n",
    "news_text"
   ]
  },
  {
   "cell_type": "code",
   "execution_count": 13,
   "metadata": {},
   "outputs": [
    {
     "data": {
      "text/plain": [
       "[('出貨', 0.4830209092080808),\n",
       " ('年增', 0.4830209092080808),\n",
       " ('萬支', 0.4226432955570707),\n",
       " ('手機', 0.3018880682550505),\n",
       " ('中國', 0.2415104546040404),\n",
       " ('成長', 0.2415104546040404),\n",
       " ('市場', 0.2415104546040404),\n",
       " ('蘋果', 0.18113284095303028),\n",
       " ('iPhone', 0.18113284095303028),\n",
       " ('OPPO', 0.18113284095303028),\n",
       " ('Vivo', 0.18113284095303028),\n",
       " ('市占率', 0.18113284095303028),\n",
       " ('全球', 0.173304672605202),\n",
       " ('品牌', 0.152411356004798),\n",
       " ('智慧', 0.14933148515151515),\n",
       " ('三星', 0.1246568846181818),\n",
       " ('IHS', 0.1207552273020202),\n",
       " ('Markit', 0.1207552273020202),\n",
       " ('2.6%', 0.1207552273020202),\n",
       " ('華為', 0.1207552273020202)]"
      ]
     },
     "execution_count": 13,
     "metadata": {},
     "output_type": "execute_result"
    }
   ],
   "source": [
    "#關鍵字\n",
    "jieba.analyse.extract_tags(news_text, topK=20, withWeight=True, allowPOS=())\n",
    "#sentence 為待提取的文本\n",
    "#topK 為返回幾個TF/IDF 權重最大的關鍵詞，默認值為20\n",
    "#withWeight 為是否一併返回關鍵詞權重值，默認值為False\n",
    "#allowPOS 僅包括指定詞性的詞，默認值為空，即不篩選"
   ]
  },
  {
   "cell_type": "code",
   "execution_count": 9,
   "metadata": {},
   "outputs": [
    {
     "name": "stderr",
     "output_type": "stream",
     "text": [
      "Building prefix dict from the default dictionary ...\n",
      "Dumping model to file cache C:\\Users\\don05\\AppData\\Local\\Temp\\jieba.cache\n",
      "Loading model cost 1.134 seconds.\n",
      "Prefix dict has been built succesfully.\n"
     ]
    },
    {
     "name": "stdout",
     "output_type": "stream",
     "text": [
      "Full Mode: 根/ 據/ / IHS/ Markit/ / 研/ 調/ 數/ 據/ 顯/ 示/ / / 今年/ 第/ / 3/ / 季/ 全球/ 智慧/ 智慧型/ 手/ 機/ 出/ 貨/ / 3/ 66/ / 億/ 台/ / / 年/ 增/ / 6/ 1/ / / 蘋/ 果/ 新/ 機/ / iPhone8/ / 及/ / iPhoneX/ / 上市/ 影/ 響/ 逐步/ 顯/ 現/ / iPhone/ / 出/ 貨/ 年/ 增/ / 2/ 6/ / / 前/ 五大/ 品牌/ 廠/ 排名/ / / 三星/ 仍然/ 居/ 冠/ / / 蘋/ 果/ 居次/ / / 其/ 餘/ 則/ 是/ 中/ 國/ 品牌/ 華/ 為/ / OPPO/ / 小米/ 等/ / / 第/ / 3/ / 季/ 出/ 貨/ 皆/ 較/ 去年/ 去年同期/ 同期/ 成/ 長/ / \n",
      "IHS/ Markit/ / 統/ 計/ / / 小米/ 重新/ 擠/ 進/ 全球/ 第五/ / / 第/ / 3/ / 季/ 出/ 貨/ 較/ 去年/ 去年同期/ 同期/ 增加/ / 111/ 2/ / / 出/ 貨/ 量/ / 2760/ / 萬/ 支/ / / 略微/ 領/ 先/ / Vivo/ / 重回/ 前/ 五大/ / Vivo/ / 則/ 以/ / 2540/ / 萬/ 支/ / / 居/ 全球/ 第六/ / / 但/ 出/ 貨/ 仍/ 較/ 去年/ 去年同期/ 同期/ 成/ 長/ / 20/ 4/ / \n",
      "/ 三星/ 第/ / 3/ / 季/ 智慧/ 手/ 機/ 出/ 貨/ / 8340/ / 萬/ 支/ / / 年/ 增/ / 7/ 7/ / / 全球/ 球市/ 占/ 率/ 增至/ / 23/ / / 年/ 增/ / 1/ / 個/ 百分/ 點/ / / 由/ 於/ 中/ 國/ 市/ 場/ 逐步/ 被/ 本土/ 品牌/ 占领/ / / 三星/ 在/ 中/ 國/ 市/ 場/ 拓展/ 略/ 顯/ 乏力/ / \n",
      "/ 蘋/ 果/ 第/ / 3/ / 季度/ 智慧/ 手/ 機/ 出/ 貨/ / 4670/ / 萬/ 支/ / / 年/ 增/ / 2/ 6/ / / 在/ 中/ 國/ 區/ 整/ 體/ 收入/ 年/ 增/ / 12/ / / 挽回/ 近期/ 期中/ 國/ 市/ 場/ 衰退/ 窘境/ / / 在/ 美/ 國/ 則/ 是/ 年/ 增/ / 14/ / / 在/ 歐/ 洲/ 年/ 增/ / 20/ / / 亞/ 洲/ 地/ 區/ 年/ 增/ / 5/ / / / 日本/ 的/ 銷/ 售/ 收入/ 則/ 年/ 減/ / 11/ / / 由/ 於/ / iPhone/ 8/ / 在/ 第/ / 3/ / 季度/ 季度末/ 正式/ 發/ 售/ / iPhone/ X/ / 在/ 上周/ 開/ 始/ 銷/ 售/ / / 較/ 明/ 顯/ 的/ 出/ 貨/ 貢/ 獻/ 時/ 間/ 將/ 在/ 第/ / 4/ / 季/ / \n",
      "/ 華/ 為/ 持/ 續/ 穩/ 定/ 守住/ 全球/ 第三/ / / 第/ / 3/ / 季/ 智慧/ 手/ 機/ 出/ 貨/ / 3910/ / 萬/ 支/ / / 年/ 增/ / 16/ 4/ / / 全球/ 球市/ 占/ 率/ 增至/ / 11/ / / 受惠/ 在/ 本土/ 市/ 場/ 具/ 備/ 品牌/ 優/ 勢/ / / 出/ 貨/ 持/ 續/ 领先/ / \n",
      "OPPO/ / 和/ / VIVO/ / 在/ 第/ / 3/ / 季/ 都/ 穩/ 定/ 成/ 長/ / OPPO/ / 智慧/ 手/ 機/ 出/ 貨/ / 3160/ / 萬/ 支/ / / 年/ 增/ / 17/ 9/ / Vivo/ / 出/ 貨/ / 2540/ / 萬/ 支/ / / 年/ 增/ / 20/ 4/ / / 兩/ 個/ 品牌/ 全球/ 球市/ 占/ 率/ 分/ 別/ 是/ / 9/ / / 及/ / / / / 來/ 看/ / / 皆/ 較/ 去年/ 略微/ 成/ 長/ / \n",
      "\n"
     ]
    }
   ],
   "source": [
    "#斷詞\n",
    "seg_list = jieba.cut(news_text, cut_all=True)\n",
    "print(\"Full Mode: \" + \"/ \".join(seg_list)) "
   ]
  }
 ],
 "metadata": {
  "kernelspec": {
   "display_name": "Python 3",
   "language": "python",
   "name": "python3"
  },
  "language_info": {
   "codemirror_mode": {
    "name": "ipython",
    "version": 3
   },
   "file_extension": ".py",
   "mimetype": "text/x-python",
   "name": "python",
   "nbconvert_exporter": "python",
   "pygments_lexer": "ipython3",
   "version": "3.6.1"
  }
 },
 "nbformat": 4,
 "nbformat_minor": 2
}
